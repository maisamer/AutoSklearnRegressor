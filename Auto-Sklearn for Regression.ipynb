{
 "cells": [
  {
   "cell_type": "markdown",
   "metadata": {},
   "source": [
    "# AutoML using Auto-Sklearn\n",
    "in this tutorial i will use Auto-Sklearn to automatically discover top-performing models for regression tasks."
   ]
  },
  {
   "cell_type": "code",
   "execution_count": 8,
   "metadata": {},
   "outputs": [],
   "source": [
    "from pandas import read_csv\n",
    "from sklearn.model_selection import train_test_split\n",
    "from sklearn.metrics import mean_absolute_error\n",
    "from autosklearn.regression import AutoSklearnRegressor\n",
    "from autosklearn.metrics import mean_absolute_error as auto_mean_absolute_error"
   ]
  },
  {
   "cell_type": "code",
   "execution_count": 9,
   "metadata": {},
   "outputs": [
    {
     "name": "stdout",
     "output_type": "stream",
     "text": [
      "(63, 1) (63,)\n"
     ]
    }
   ],
   "source": [
    "# load dataset\n",
    "url = 'https://raw.githubusercontent.com/jbrownlee/Datasets/master/auto-insurance.csv'\n",
    "dataframe = read_csv(url, header=None)\n",
    "# split into input and output elements\n",
    "data = dataframe.values\n",
    "X, y = data[:, :-1], data[:, -1]\n",
    "print(X.shape, y.shape)"
   ]
  },
  {
   "cell_type": "code",
   "execution_count": 10,
   "metadata": {},
   "outputs": [],
   "source": [
    "...\n",
    "# define search\n",
    "# thes step will take 10 mins, given the hard limit we imposed on the run.\n",
    "model = AutoSklearnRegressor(time_left_for_this_task=5*60, per_run_time_limit=30, n_jobs=8,metric=auto_mean_absolute_error)"
   ]
  },
  {
   "cell_type": "code",
   "execution_count": 11,
   "metadata": {},
   "outputs": [],
   "source": [
    "# split into train and test sets\n",
    "X_train, X_test, y_train, y_test = train_test_split(X, y, test_size=0.33, random_state=1)"
   ]
  },
  {
   "cell_type": "code",
   "execution_count": 12,
   "metadata": {},
   "outputs": [
    {
     "name": "stdout",
     "output_type": "stream",
     "text": [
      "[WARNING] [2020-09-12 20:32:54,592:AutoMLSMBO(1791095845)::597419e93d6192ba8f7314c0f5d32fe9] Could not find meta-data directory /home/mai/anaconda3/lib/python3.8/site-packages/autosklearn/metalearning/files/mean_absolute_error_regression_dense\n"
     ]
    },
    {
     "name": "stderr",
     "output_type": "stream",
     "text": [
      "/home/mai/anaconda3/lib/python3.8/site-packages/sklearn/base.py:193: FutureWarning: From version 0.24, get_params will raise an AttributeError if a parameter cannot be retrieved as an instance attribute. Previously it would return None.\n",
      "  warnings.warn('From version 0.24, get_params will raise an '\n"
     ]
    },
    {
     "data": {
      "text/plain": [
       "AutoSklearnRegressor(delete_output_folder_after_terminate=False,\n",
       "                     delete_tmp_folder_after_terminate=False,\n",
       "                     disable_evaluator_output=False, ensemble_memory_limit=1024,\n",
       "                     ensemble_nbest=50, ensemble_size=50,\n",
       "                     exclude_estimators=None, exclude_preprocessors=None,\n",
       "                     get_smac_object_callback=None, include_estimators=None,\n",
       "                     include_preprocessors=None,\n",
       "                     initial_configurations_via_metalearning=25,\n",
       "                     logging_config=None, max_models_on_disc=50,\n",
       "                     metadata_directory=None, metric=None, ml_memory_limit=3072,\n",
       "                     n_jobs=8, output_folder=None, per_run_time_limit=30,\n",
       "                     resampling_strategy='holdout',\n",
       "                     resampling_strategy_arguments=None, seed=1,\n",
       "                     shared_mode=False, smac_scenario_args=None,\n",
       "                     time_left_for_this_task=300, tmp_folder=None)"
      ]
     },
     "execution_count": 12,
     "metadata": {},
     "output_type": "execute_result"
    }
   ],
   "source": [
    "# perform the search\n",
    "model.fit(X_train, y_train)"
   ]
  },
  {
   "cell_type": "code",
   "execution_count": 13,
   "metadata": {},
   "outputs": [
    {
     "name": "stdout",
     "output_type": "stream",
     "text": [
      "auto-sklearn results:\n",
      "  Dataset name: 597419e93d6192ba8f7314c0f5d32fe9\n",
      "  Metric: mean_absolute_error\n",
      "  Best validation score: 31.712348\n",
      "  Number of target algorithm runs: 210\n",
      "  Number of successful target algorithm runs: 144\n",
      "  Number of crashed target algorithm runs: 65\n",
      "  Number of target algorithms that exceeded the time limit: 1\n",
      "  Number of target algorithms that exceeded the memory limit: 0\n",
      "\n"
     ]
    }
   ],
   "source": [
    "# summarize\n",
    "print(model.sprint_statistics())"
   ]
  },
  {
   "cell_type": "code",
   "execution_count": 14,
   "metadata": {},
   "outputs": [
    {
     "name": "stdout",
     "output_type": "stream",
     "text": [
      "MAE: 26.136\n"
     ]
    }
   ],
   "source": [
    "# evaluate best model\n",
    "y_hat = model.predict(X_test)\n",
    "mae = mean_absolute_error(y_test, y_hat)\n",
    "print(\"MAE: %.3f\" % mae)"
   ]
  },
  {
   "cell_type": "markdown",
   "metadata": {},
   "source": [
    "# Note : \n",
    "these toturial and code is based on https://machinelearningmastery.com/auto-sklearn-for-automated-machine-learning-in-python/ \n",
    "you can read in details"
   ]
  }
 ],
 "metadata": {
  "kernelspec": {
   "display_name": "Python 3",
   "language": "python",
   "name": "python3"
  },
  "language_info": {
   "codemirror_mode": {
    "name": "ipython",
    "version": 3
   },
   "file_extension": ".py",
   "mimetype": "text/x-python",
   "name": "python",
   "nbconvert_exporter": "python",
   "pygments_lexer": "ipython3",
   "version": "3.8.3"
  }
 },
 "nbformat": 4,
 "nbformat_minor": 4
}
